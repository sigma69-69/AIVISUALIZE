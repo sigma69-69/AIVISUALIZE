{
 "cells": [
  {
   "cell_type": "code",
   "execution_count": 1,
   "id": "862ce717",
   "metadata": {},
   "outputs": [
    {
     "name": "stdout",
     "output_type": "stream",
     "text": [
      "Predicted Weather States: ['Rainy', 'Sunny', 'Sunny']\n"
     ]
    }
   ],
   "source": [
    "import numpy as np\n",
    "from hmmlearn import hmm\n",
    "\n",
    "# Step 1: Define Model Parameters\n",
    "n_states = 2  # Number of hidden states (Rainy and Sunny)\n",
    "\n",
    "# Transition matrix (A): Probability of transitioning from one state to another\n",
    "trans_matrix = np.array([[0.7, 0.3], [0.4, 0.6]])\n",
    "\n",
    "# Ensure rows of the transition matrix sum to 1\n",
    "trans_matrix = trans_matrix / trans_matrix.sum(axis=1, keepdims=True)\n",
    "\n",
    "# Emission probabilities for each state\n",
    "emission_probs = np.array([[0.1, 0.4, 0.5], [0.6, 0.3, 0.1]])\n",
    "\n",
    "# Initial state probabilities (π): Probability distribution of starting in each state\n",
    "initial_probs = np.array([0.6, 0.4])\n",
    "\n",
    "# Step 2: Create HMM Model\n",
    "model = hmm.CategoricalHMM(n_components=n_states,\n",
    "                            startprob_prior=initial_probs,\n",
    "                            transmat_prior=trans_matrix,\n",
    "                            n_iter=100)\n",
    "\n",
    "# Step 3: Generate Training Data (for simplicity, you can use a pre-existing dataset)\n",
    "# Observations: 0 - Umbrella, 1 - Jacket, 2 - T-shirt\n",
    "train_data = np.array([[0, 1, 2, 0, 1, 2, 0, 2, 1]])\n",
    "\n",
    "# Step 4: Fit the Model\n",
    "model.fit(train_data)\n",
    "\n",
    "# Step 5: Predict States for a New Sequence\n",
    "new_data = np.array([[0, 2, 1]])  # Umbrella, T-shirt, Jacket\n",
    "predicted_states = model.predict(new_data)\n",
    "\n",
    "# Map numerical predictions to weather states\n",
    "weather_states = ['Rainy', 'Sunny']\n",
    "predicted_states_text = [weather_states[state] for state in predicted_states]\n",
    "\n",
    "# Display Results\n",
    "print(\"Predicted Weather States:\", predicted_states_text)\n"
   ]
  },
  {
   "cell_type": "code",
   "execution_count": null,
   "id": "2120a7f2",
   "metadata": {},
   "outputs": [],
   "source": []
  }
 ],
 "metadata": {
  "kernelspec": {
   "display_name": "Python 3 (ipykernel)",
   "language": "python",
   "name": "python3"
  },
  "language_info": {
   "codemirror_mode": {
    "name": "ipython",
    "version": 3
   },
   "file_extension": ".py",
   "mimetype": "text/x-python",
   "name": "python",
   "nbconvert_exporter": "python",
   "pygments_lexer": "ipython3",
   "version": "3.10.1"
  }
 },
 "nbformat": 4,
 "nbformat_minor": 5
}
