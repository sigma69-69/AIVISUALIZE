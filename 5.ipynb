{
 "cells": [
  {
   "cell_type": "code",
   "execution_count": 1,
   "id": "0c13a43d",
   "metadata": {},
   "outputs": [
    {
     "name": "stdout",
     "output_type": "stream",
     "text": [
      "Bag of Words Model:\n",
      "cat: 1\n",
      "sat: 1\n",
      "mat: 2\n",
      "comfortable: 1\n",
      "sang: 1\n",
      "sweet: 1\n",
      "song: 2\n",
      "touched: 1\n",
      "everyone: 1\n",
      "heart: 1\n",
      "coding: 3\n",
      "challenging: 1\n",
      "also: 1\n",
      "incredibly: 1\n",
      "rewarding: 1\n"
     ]
    },
    {
     "name": "stderr",
     "output_type": "stream",
     "text": [
      "[nltk_data] Downloading package punkt to\n",
      "[nltk_data]     C:\\Users\\online\\AppData\\Roaming\\nltk_data...\n",
      "[nltk_data]   Package punkt is already up-to-date!\n",
      "[nltk_data] Downloading package stopwords to\n",
      "[nltk_data]     C:\\Users\\online\\AppData\\Roaming\\nltk_data...\n",
      "[nltk_data]   Package stopwords is already up-to-date!\n"
     ]
    }
   ],
   "source": [
    "import nltk\n",
    "from nltk.corpus import stopwords\n",
    "from nltk.tokenize import word_tokenize\n",
    "from nltk.probability import FreqDist\n",
    "\n",
    "nltk.download('punkt')\n",
    "nltk.download('stopwords')\n",
    "\n",
    "def preprocess_text(text):\n",
    "    stop_words = set(stopwords.words('english'))\n",
    "    word_tokens = word_tokenize(text)\n",
    "    filtered_words = [word.lower() for word in word_tokens if word.isalpha() and word.lower() not in stop_words]\n",
    "    return filtered_words\n",
    "\n",
    "def create_bow_model(texts):\n",
    "    all_words = []\n",
    "    for text in texts:\n",
    "        words = preprocess_text(text)\n",
    "        all_words.extend(words)\n",
    "\n",
    "    word_freq = FreqDist(all_words)\n",
    "    bow_model = {word: freq for word, freq in word_freq.items()}\n",
    "    return bow_model\n",
    "\n",
    "# Example usage\n",
    "texts = [\n",
    "    \"The cat sat on the mat, and the mat was comfortable.\",\n",
    "    \"She sang a sweet song, a song that touched everyone's heart.\",\n",
    "    \"Coding coding can be challenging, but coding is also incredibly rewarding.\",\n",
    "]\n",
    "\n",
    "bow_model = create_bow_model(texts)\n",
    "\n",
    "# Print the Bag of Words model\n",
    "print(\"Bag of Words Model:\")\n",
    "for word, freq in bow_model.items():\n",
    "    print(f\"{word}: {freq}\")\n"
   ]
  },
  {
   "cell_type": "code",
   "execution_count": null,
   "id": "2a1fb583",
   "metadata": {},
   "outputs": [],
   "source": []
  }
 ],
 "metadata": {
  "kernelspec": {
   "display_name": "Python 3 (ipykernel)",
   "language": "python",
   "name": "python3"
  },
  "language_info": {
   "codemirror_mode": {
    "name": "ipython",
    "version": 3
   },
   "file_extension": ".py",
   "mimetype": "text/x-python",
   "name": "python",
   "nbconvert_exporter": "python",
   "pygments_lexer": "ipython3",
   "version": "3.10.1"
  }
 },
 "nbformat": 4,
 "nbformat_minor": 5
}
