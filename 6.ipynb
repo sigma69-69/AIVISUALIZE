{
 "cells": [
  {
   "cell_type": "code",
   "execution_count": 2,
   "id": "106806c7",
   "metadata": {},
   "outputs": [
    {
     "name": "stdout",
     "output_type": "stream",
     "text": [
      "Pattern: Female, Count: 204\n"
     ]
    }
   ],
   "source": [
    "import csv\n",
    "import re\n",
    "\n",
    "def identify_patterns(csv_file_path, column_name):\n",
    "    patterns = {}\n",
    "\n",
    "    with open(csv_file_path, 'r') as csvfile:\n",
    "        reader = csv.DictReader(csvfile)\n",
    "\n",
    "        for row in reader:\n",
    "            text = row[column_name]\n",
    "\n",
    "            # Example pattern: finding words that start with 'pattern'\n",
    "            pattern_matches = re.findall(r'Female', text, flags=re.IGNORECASE)\n",
    "\n",
    "            # Update patterns dictionary with matches\n",
    "            for match in pattern_matches:\n",
    "                if match in patterns:\n",
    "                    patterns[match] += 1\n",
    "                else:\n",
    "                    patterns[match] = 1\n",
    "\n",
    "    return patterns\n",
    "csv_file_path = 'Dataset/Social_Network _Ads.csv'  # Update with your CSV file path\n",
    "column_name = 'Gender'     # Update with the actual column name in your CSV file\n",
    "\n",
    "result = identify_patterns(csv_file_path, column_name)\n",
    "\n",
    "# Display the identified patterns and their counts\n",
    "for pattern, count in result.items():\n",
    "    print(f\"Pattern: {pattern}, Count: {count}\")\n"
   ]
  },
  {
   "cell_type": "code",
   "execution_count": null,
   "id": "703397de",
   "metadata": {},
   "outputs": [],
   "source": []
  }
 ],
 "metadata": {
  "kernelspec": {
   "display_name": "Python 3 (ipykernel)",
   "language": "python",
   "name": "python3"
  },
  "language_info": {
   "codemirror_mode": {
    "name": "ipython",
    "version": 3
   },
   "file_extension": ".py",
   "mimetype": "text/x-python",
   "name": "python",
   "nbconvert_exporter": "python",
   "pygments_lexer": "ipython3",
   "version": "3.10.1"
  }
 },
 "nbformat": 4,
 "nbformat_minor": 5
}
