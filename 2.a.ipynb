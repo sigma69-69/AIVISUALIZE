{
 "cells": [
  {
   "cell_type": "code",
   "execution_count": 1,
   "id": "807e98ed",
   "metadata": {},
   "outputs": [
    {
     "name": "stdout",
     "output_type": "stream",
     "text": [
      "Index(['Weather', 'Wind', 'Temp', 'go'], dtype='object')\n",
      "100.0\n"
     ]
    }
   ],
   "source": [
    "import pandas as pd\n",
    "\n",
    "f=pd.DataFrame({\n",
    "    'Weather':['Sunny','Rainy','Sunny','Sunnny'],\n",
    "    'Wind':['Mild','Mild','High','Mild'],\n",
    "    'Temp':['Moderate','Mild','Moderate','Mild'],\n",
    "    'go':['Yes','No','Yes','Yes']\n",
    "})\n",
    "print(f.columns)\n",
    "from sklearn.naive_bayes import GaussianNB\n",
    "x=f.iloc[:,:-1]\n",
    "y=f.iloc[:,-1]\n",
    "from sklearn.preprocessing import LabelEncoder\n",
    "Weather_enc=LabelEncoder()\n",
    "x[\"Weather_encoded\"]=Weather_enc.fit_transform(x[\"Weather\"])\n",
    "Wind_enc=LabelEncoder()\n",
    "x[\"Wind_encoded\"]=Wind_enc.fit_transform(x[\"Wind\"])\n",
    "Temp_enc=LabelEncoder()\n",
    "x[\"Temp_encoded\"]=Temp_enc.fit_transform(x[\"Temp\"])\n",
    "X=x.iloc[:,3:]\n",
    "from sklearn.model_selection import train_test_split\n",
    "xtrain,xtest,ytrain,ytest=train_test_split(X,y)\n",
    "naive_bayes_model=GaussianNB()\n",
    "naive_bayes_model.fit(xtrain,ytrain)\n",
    "ypred=naive_bayes_model.predict(xtest)\n",
    "from sklearn.metrics import accuracy_score\n",
    "acc_score=accuracy_score(ytest,ypred)*100\n",
    "print(acc_score)"
   ]
  },
  {
   "cell_type": "code",
   "execution_count": null,
   "id": "3d0017c0",
   "metadata": {},
   "outputs": [],
   "source": []
  },
  {
   "cell_type": "markdown",
   "id": "d399af4d",
   "metadata": {},
   "source": [
    "### Iris Dataset"
   ]
  },
  {
   "cell_type": "code",
   "execution_count": 2,
   "id": "603266c2",
   "metadata": {},
   "outputs": [
    {
     "name": "stdout",
     "output_type": "stream",
     "text": [
      "98.33333333333333\n"
     ]
    }
   ],
   "source": [
    "df=pd.read_csv('Dataset/Iris.csv')\n",
    "X,y=df.iloc[:,:-1],df.iloc[:,-1]\n",
    "from sklearn.model_selection import train_test_split\n",
    "xtrain,xtest,ytrain,ytest=train_test_split(X,y,test_size=0.8)\n",
    "model=GaussianNB()\n",
    "model.fit(xtrain,ytrain)\n",
    "ypred=model.predict(xtest)\n",
    "from sklearn.metrics import accuracy_score\n",
    "print(accuracy_score(ytest,ypred)*100)"
   ]
  },
  {
   "cell_type": "code",
   "execution_count": null,
   "id": "24784674",
   "metadata": {},
   "outputs": [],
   "source": []
  }
 ],
 "metadata": {
  "kernelspec": {
   "display_name": "Python 3 (ipykernel)",
   "language": "python",
   "name": "python3"
  },
  "language_info": {
   "codemirror_mode": {
    "name": "ipython",
    "version": 3
   },
   "file_extension": ".py",
   "mimetype": "text/x-python",
   "name": "python",
   "nbconvert_exporter": "python",
   "pygments_lexer": "ipython3",
   "version": "3.10.1"
  }
 },
 "nbformat": 4,
 "nbformat_minor": 5
}
