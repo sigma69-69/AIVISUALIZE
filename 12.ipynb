{
 "cells": [
  {
   "cell_type": "code",
   "execution_count": 1,
   "id": "026c3523",
   "metadata": {},
   "outputs": [
    {
     "name": "stdout",
     "output_type": "stream",
     "text": [
      "Downloading data from https://storage.googleapis.com/tensorflow/tf-keras-datasets/mnist.npz\n",
      "11490434/11490434 [==============================] - 2s 0us/step\n",
      "Epoch 1/5\n",
      "1688/1688 [==============================] - 20s 11ms/step - loss: 0.1445 - accuracy: 0.9566 - val_loss: 0.0552 - val_accuracy: 0.9833\n",
      "Epoch 2/5\n",
      "1688/1688 [==============================] - 18s 11ms/step - loss: 0.0487 - accuracy: 0.9848 - val_loss: 0.0412 - val_accuracy: 0.9877\n",
      "Epoch 3/5\n",
      "1688/1688 [==============================] - 17s 10ms/step - loss: 0.0335 - accuracy: 0.9895 - val_loss: 0.0443 - val_accuracy: 0.9873\n",
      "Epoch 4/5\n",
      "1688/1688 [==============================] - 17s 10ms/step - loss: 0.0247 - accuracy: 0.9919 - val_loss: 0.0377 - val_accuracy: 0.9897\n",
      "Epoch 5/5\n",
      "1688/1688 [==============================] - 17s 10ms/step - loss: 0.0186 - accuracy: 0.9940 - val_loss: 0.0423 - val_accuracy: 0.9898\n",
      "313/313 [==============================] - 1s 3ms/step - loss: 0.0326 - accuracy: 0.9914\n",
      "\n",
      "Test accuracy: 0.9914000034332275\n"
     ]
    }
   ],
   "source": [
    "import tensorflow as tf\n",
    "from tensorflow.keras.models import Sequential\n",
    "from tensorflow.keras.layers import Conv2D, Dense, Flatten, MaxPooling2D\n",
    "# Load and preprocess the MNIST dataset\n",
    "mnist = tf.keras.datasets.mnist\n",
    "(X_train, y_train), (X_test, y_test) = mnist.load_data()\n",
    "X_train, X_test = X_train / 255.0, X_test / 255.0  # Normalize pixel values\n",
    "# Define the CNN model\n",
    "model = Sequential([\n",
    "    Conv2D(32, kernel_size=(3, 3), activation='relu', input_shape=(28, 28, 1)),\n",
    "    MaxPooling2D(pool_size=(2, 2)),\n",
    "    Conv2D(64, (3, 3), activation='relu'),\n",
    "    MaxPooling2D(pool_size=(2, 2)),\n",
    "    Flatten(),\n",
    "    Dense(64, activation='relu'),\n",
    "    Dense(10, activation='softmax')\n",
    "])\n",
    "# Compile the model\n",
    "model.compile(optimizer='adam',\n",
    "              loss='sparse_categorical_crossentropy',\n",
    "              metrics=['accuracy'])\n",
    "# Train the model\n",
    "model.fit(X_train, y_train, epochs=5, validation_split=0.1)\n",
    "\n",
    "# Evaluate the model\n",
    "test_loss, test_acc = model.evaluate(X_test, y_test)\n",
    "print(f'\\nTest accuracy: {test_acc}')\n",
    "\n"
   ]
  },
  {
   "cell_type": "code",
   "execution_count": null,
   "id": "97b3d7bf",
   "metadata": {},
   "outputs": [],
   "source": []
  }
 ],
 "metadata": {
  "kernelspec": {
   "display_name": "Python 3 (ipykernel)",
   "language": "python",
   "name": "python3"
  },
  "language_info": {
   "codemirror_mode": {
    "name": "ipython",
    "version": 3
   },
   "file_extension": ".py",
   "mimetype": "text/x-python",
   "name": "python",
   "nbconvert_exporter": "python",
   "pygments_lexer": "ipython3",
   "version": "3.10.1"
  }
 },
 "nbformat": 4,
 "nbformat_minor": 5
}
