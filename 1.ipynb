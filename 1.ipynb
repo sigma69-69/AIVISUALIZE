{
 "cells": [
  {
   "cell_type": "code",
   "execution_count": 7,
   "id": "4df200b1",
   "metadata": {},
   "outputs": [],
   "source": [
    "import csv\n",
    "import statistics\n",
    "import numpy"
   ]
  },
  {
   "cell_type": "markdown",
   "id": "970b948a",
   "metadata": {},
   "source": [
    "## Mean Removal"
   ]
  },
  {
   "cell_type": "code",
   "execution_count": 8,
   "id": "48f20843",
   "metadata": {},
   "outputs": [],
   "source": [
    "def remove_mean(inp_file,otp_file):\n",
    "    with open(inp_file,'r') as file:\n",
    "        reader=csv.reader(file)\n",
    "        data=[float(row[0]) for row in reader]\n",
    "    mean_val=statistics.mean(data)\n",
    "    mean_removed_data=[x-mean_val for x in data]\n",
    "    with open(otp_file,'w',newline='') as file:\n",
    "        writer=csv.writer(file)\n",
    "        for value in mean_removed_data:\n",
    "            writer.writerow([value])"
   ]
  },
  {
   "cell_type": "markdown",
   "id": "a70ca8a5",
   "metadata": {},
   "source": [
    "## Scaling"
   ]
  },
  {
   "cell_type": "code",
   "execution_count": 9,
   "id": "4c9fcc34",
   "metadata": {},
   "outputs": [],
   "source": [
    "def min_max_scaling(inp_file,otp_file):\n",
    "    with open(inp_file,'r') as file:\n",
    "        reader=csv.reader(file)\n",
    "        data=[float(row[0]) for row in reader]\n",
    "    current_min=min(data)\n",
    "    current_max=max(data)\n",
    "    scaled_data=[(x-current_min)/(current_max-current_min) for x in data]\n",
    "    with open(otp_file,'w',newline=\"\") as file:\n",
    "        writer=csv.writer(file)\n",
    "        for val in scaled_data:\n",
    "            writer.writerow([val])"
   ]
  },
  {
   "cell_type": "markdown",
   "id": "b4dbef9c",
   "metadata": {},
   "source": [
    "## Z-Score"
   ]
  },
  {
   "cell_type": "code",
   "execution_count": 10,
   "id": "4706908c",
   "metadata": {},
   "outputs": [],
   "source": [
    "def z_score(inp_file,otp_file):\n",
    "    with open(inp_file,'r') as file:\n",
    "        reader=csv.reader(file)\n",
    "        data=[float(row[0]) for row in reader]\n",
    "    std=numpy.array(data).std()\n",
    "    mean=numpy.array(data).mean()\n",
    "    z_scored_data=[(x-mean)/std for x in data]\n",
    "    with open(otp_file,'w',newline=\"\") as file:\n",
    "        writer=csv.writer(file)\n",
    "        for val in z_scored_data:\n",
    "            writer.writerow([val])"
   ]
  },
  {
   "cell_type": "code",
   "execution_count": 11,
   "id": "768314f6",
   "metadata": {},
   "outputs": [],
   "source": [
    "if __name__ == '__main__':\n",
    "    inp_file='./Dataset/Data_for_Exp01.csv'\n",
    "    remove_mean(inp_file,'mean_removed_data.csv')\n",
    "    min_max_scaling(inp_file,'scaled.csv')\n",
    "    z_score(inp_file,'z_score.csv')"
   ]
  },
  {
   "cell_type": "code",
   "execution_count": null,
   "id": "23ff8dd1",
   "metadata": {},
   "outputs": [],
   "source": []
  }
 ],
 "metadata": {
  "kernelspec": {
   "display_name": "Python 3 (ipykernel)",
   "language": "python",
   "name": "python3"
  },
  "language_info": {
   "codemirror_mode": {
    "name": "ipython",
    "version": 3
   },
   "file_extension": ".py",
   "mimetype": "text/x-python",
   "name": "python",
   "nbconvert_exporter": "python",
   "pygments_lexer": "ipython3",
   "version": "3.10.1"
  }
 },
 "nbformat": 4,
 "nbformat_minor": 5
}
